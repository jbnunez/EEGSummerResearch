{
 "cells": [
  {
   "cell_type": "markdown",
   "metadata": {},
   "source": [
    "This file demonstrates how poorly the clustering methods work on their own"
   ]
  },
  {
   "cell_type": "code",
   "execution_count": 1,
   "metadata": {},
   "outputs": [
    {
     "name": "stderr",
     "output_type": "stream",
     "text": [
      "/Users/joenunez/anaconda3/lib/python3.6/site-packages/h5py/__init__.py:34: FutureWarning: Conversion of the second argument of issubdtype from `float` to `np.floating` is deprecated. In future, it will be treated as `np.float64 == np.dtype(float).type`.\n",
      "  from ._conv import register_converters as _register_converters\n",
      "Using TensorFlow backend.\n"
     ]
    }
   ],
   "source": [
    "import cov_aff_inv_util as caiu\n",
    "import cov_util as cu\n",
    "import SE3util as se3\n",
    "from eeg_generator_augmented import DataGenerator\n",
    "import numpy as np\n",
    "import pandas as pd"
   ]
  },
  {
   "cell_type": "markdown",
   "metadata": {},
   "source": [
    "Load samples"
   ]
  },
  {
   "cell_type": "code",
   "execution_count": 2,
   "metadata": {},
   "outputs": [
    {
     "name": "stdout",
     "output_type": "stream",
     "text": [
      "list_IDs and test_IDs filled\n"
     ]
    }
   ],
   "source": [
    "batch_size = 50\n",
    "sample_dim = 32\n",
    "steps_back = 1\n",
    "target_dim = (6)\n",
    "#n_evals cannot exceed sample_dim\n",
    "n_evals=32\n",
    "mode='unaugmented'\n",
    "dist='gmm'\n",
    "\n",
    "generator = DataGenerator(batch_size=batch_size, \n",
    "    dim1=sample_dim, target_dim=target_dim, \n",
    "    steps_back=steps_back, mode=mode, n_evals=n_evals, dist=dist)\n",
    "\n",
    "X_test, y_test = generator.test_generation(1000)"
   ]
  },
  {
   "cell_type": "markdown",
   "metadata": {},
   "source": [
    "Test with event combinations"
   ]
  },
  {
   "cell_type": "code",
   "execution_count": 26,
   "metadata": {
    "collapsed": true
   },
   "outputs": [],
   "source": [
    "event_means = np.load('eeg_event_means.npy')\n",
    "event_covmat_invs = np.load('eeg_event_covmat_invs.npy')\n",
    "event_evals = np.load('eeg_event_evals.npy')\n",
    "events = np.load('eeg_events.npy')"
   ]
  },
  {
   "cell_type": "code",
   "execution_count": 34,
   "metadata": {},
   "outputs": [],
   "source": [
    "def test_cov_clusters(n, event_means, event_covmat_invs, print_freq=1000):\n",
    "    samples = X_test[:n]\n",
    "    targets = y_test[:n]\n",
    "        \n",
    "    preds = np.empty((n,6), dtype=np.uint8)\n",
    "    for i, vec in enumerate(samples):\n",
    "        if i%print_freq==0:\n",
    "            print(i, 'preds made')\n",
    "        targ = np.array(targets[i])\n",
    "        shortest, best = np.inf, None\n",
    "        for j in range(len(event_covmat_invs)):\n",
    "            mat = event_covmat_invs[j]\n",
    "            mu = event_means[j]\n",
    "            diff = vec-mu\n",
    "            diff = diff.flatten()\n",
    "            dist = (diff.T@mat@diff)**0.5\n",
    "            if dist<shortest:\n",
    "                shortest=dist\n",
    "                best=j\n",
    "        preds[i] = events[j]\n",
    "    correct = float(0)\n",
    "    for i,pred in enumerate(preds):\n",
    "        t = targets[i]\n",
    "        if np.array_equal(pred,t):\n",
    "            correct += 1\n",
    "    return correct, correct/n\n",
    "        "
   ]
  },
  {
   "cell_type": "code",
   "execution_count": 35,
   "metadata": {},
   "outputs": [
    {
     "name": "stdout",
     "output_type": "stream",
     "text": [
      "0 preds made\n",
      "1000 preds made\n",
      "2000 preds made\n",
      "3000 preds made\n",
      "4000 preds made\n",
      "5000 preds made\n",
      "6000 preds made\n",
      "7000 preds made\n",
      "8000 preds made\n",
      "9000 preds made\n"
     ]
    },
    {
     "data": {
      "text/plain": [
       "(0.0, 0.0)"
      ]
     },
     "execution_count": 35,
     "metadata": {},
     "output_type": "execute_result"
    }
   ],
   "source": [
    "test_cov_clusters(10000, event_means, event_covmat_invs)"
   ]
  },
  {
   "cell_type": "code",
   "execution_count": 37,
   "metadata": {},
   "outputs": [],
   "source": [
    "def test_gmm_clusters(n, event_means, event_covmat_invs, event_evals, print_freq=1000):\n",
    "    samples = X_test[:n]\n",
    "    targets = y_test[:n]\n",
    "        \n",
    "    preds = np.empty((n,6), dtype=np.uint8)\n",
    "    for i, vec in enumerate(samples):\n",
    "        if i%print_freq==0:\n",
    "            print(i, 'preds made')\n",
    "        targ = np.array(targets[i])\n",
    "        highest, best = -np.inf, None\n",
    "        for j in range(len(event_covmat_invs)):\n",
    "            mat = event_covmat_invs[j]\n",
    "            mu = event_means[j]\n",
    "            diff = vec-mu\n",
    "            diff = diff.flatten()\n",
    "            dist = (diff.T@mat@diff)**0.5\n",
    "            prob = np.exp(-dist/2)/(np.prod(event_evals[j])**0.5)\n",
    "            if prob>highest:\n",
    "                highest=prob\n",
    "                best=j\n",
    "        preds[i] = events[j]\n",
    "    correct = float(0)\n",
    "    for i,pred in enumerate(preds):\n",
    "        t = targets[i]\n",
    "        if np.array_equal(pred,t):\n",
    "            correct += 1\n",
    "    return correct, correct/n"
   ]
  },
  {
   "cell_type": "code",
   "execution_count": 38,
   "metadata": {},
   "outputs": [
    {
     "name": "stdout",
     "output_type": "stream",
     "text": [
      "0 preds made\n",
      "1000 preds made\n",
      "2000 preds made\n",
      "3000 preds made\n",
      "4000 preds made\n",
      "5000 preds made\n",
      "6000 preds made\n",
      "7000 preds made\n",
      "8000 preds made\n",
      "9000 preds made\n"
     ]
    },
    {
     "data": {
      "text/plain": [
       "(0.0, 0.0)"
      ]
     },
     "execution_count": 38,
     "metadata": {},
     "output_type": "execute_result"
    }
   ],
   "source": [
    "test_gmm_clusters(10000, event_means, event_covmat_invs, event_evals)"
   ]
  },
  {
   "cell_type": "markdown",
   "metadata": {
    "collapsed": true
   },
   "source": [
    "Test with sub_event combinations"
   ]
  },
  {
   "cell_type": "code",
   "execution_count": 39,
   "metadata": {
    "collapsed": true
   },
   "outputs": [],
   "source": [
    "sub_event_means = np.load('eeg_sub_event_means.npy')\n",
    "sub_event_covmat_invs = np.load('eeg_sub_event_covmat_invs.npy')\n",
    "sub_event_evals = np.load('eeg_sub_event_evals.npy')\n"
   ]
  },
  {
   "cell_type": "code",
   "execution_count": 43,
   "metadata": {
    "collapsed": true
   },
   "outputs": [],
   "source": [
    "def test_sub_cov_clusters(n, sub_event_means, sub_event_covmat_invs, sub_event_evals, print_freq=1000):\n",
    "    samples = X_test[:n]\n",
    "    targets = y_test[:n]\n",
    "\n",
    "    preds = np.empty((n,6), dtype=np.uint8)\n",
    "    for i, vec in enumerate(samples):\n",
    "        if i%print_freq==0:\n",
    "            print(i, 'preds made')\n",
    "        targ = targets[i]\n",
    "        for j in range(len(sub_event_covmat_invs)):\n",
    "            (mat0,mat1) = sub_event_covmat_invs[j]\n",
    "            (mu0,mu1) = sub_event_means[j]\n",
    "            diff0=(vec-mu0).flatten()\n",
    "            diff1=(vec-mu1).flatten()\n",
    "            dist0 = (diff0.T@mat0@diff0)**0.5\n",
    "            dist1 = (diff1.T@mat1@diff1)**0.5\n",
    "            if dist0<dist1:\n",
    "                preds[i,j]=0\n",
    "            else:\n",
    "                preds[i,j]=1\n",
    "    correct = float(0)\n",
    "\n",
    "    for i,pred in enumerate(preds):\n",
    "        if np.allclose(pred,targets[i]):\n",
    "            correct += 1\n",
    "    return correct, correct/n\n",
    "        "
   ]
  },
  {
   "cell_type": "code",
   "execution_count": 44,
   "metadata": {},
   "outputs": [
    {
     "name": "stdout",
     "output_type": "stream",
     "text": [
      "0 preds made\n",
      "1000 preds made\n",
      "2000 preds made\n",
      "3000 preds made\n",
      "4000 preds made\n",
      "5000 preds made\n",
      "6000 preds made\n",
      "7000 preds made\n",
      "8000 preds made\n",
      "9000 preds made\n"
     ]
    },
    {
     "data": {
      "text/plain": [
       "(8.0, 0.0008)"
      ]
     },
     "execution_count": 44,
     "metadata": {},
     "output_type": "execute_result"
    }
   ],
   "source": [
    "test_sub_cov_clusters(10000, sub_event_means, sub_event_covmat_invs, sub_event_evals)"
   ]
  },
  {
   "cell_type": "code",
   "execution_count": 45,
   "metadata": {
    "collapsed": true
   },
   "outputs": [],
   "source": [
    "def test_sub_gmm_clusters(n, sub_event_means, sub_event_covmat_invs, sub_event_evals, print_freq=1000):\n",
    "    samples = X_test[:n]\n",
    "    targets = y_test[:n]\n",
    "\n",
    "    preds = np.empty((n,6), dtype=np.uint8)\n",
    "    for i, vec in enumerate(samples):\n",
    "        if i%print_freq==0:\n",
    "            print(i, 'preds made')\n",
    "        targ = targets[i]\n",
    "        for j in range(len(sub_event_covmat_invs)):\n",
    "            (mat0,mat1) = sub_event_covmat_invs[j]\n",
    "            (mu0,mu1) = sub_event_means[j]\n",
    "            (ev0,ev1) = sub_event_evals[j]\n",
    "            ev0 = np.prod(ev0)\n",
    "            ev1 = np.prod(ev1)\n",
    "            diff0=(vec-mu0).flatten()\n",
    "            diff1=(vec-mu1).flatten()\n",
    "            dist0 = (diff0.T@mat0@diff0)**0.5\n",
    "            dist1 = (diff1.T@mat1@diff1)**0.5\n",
    "            prob0 = np.exp(-dist0/2)/(ev0**0.5)\n",
    "            prob1 = np.exp(-dist1/2)/(ev1**0.5)            \n",
    "            if prob0<prob1:\n",
    "                preds[i,j]=0\n",
    "            else:\n",
    "                preds[i,j]=1\n",
    "    correct = float(0)\n",
    "\n",
    "    for i,pred in enumerate(preds):\n",
    "        if np.allclose(pred,targets[i]):\n",
    "            correct += 1\n",
    "    return correct, correct/n"
   ]
  },
  {
   "cell_type": "code",
   "execution_count": 46,
   "metadata": {},
   "outputs": [
    {
     "name": "stdout",
     "output_type": "stream",
     "text": [
      "0 preds made\n",
      "1000 preds made\n",
      "2000 preds made\n",
      "3000 preds made\n",
      "4000 preds made\n",
      "5000 preds made\n",
      "6000 preds made\n",
      "7000 preds made\n",
      "8000 preds made\n",
      "9000 preds made\n"
     ]
    },
    {
     "data": {
      "text/plain": [
       "(0.0, 0.0)"
      ]
     },
     "execution_count": 46,
     "metadata": {},
     "output_type": "execute_result"
    }
   ],
   "source": [
    "test_sub_gmm_clusters(10000, sub_event_means, sub_event_covmat_invs, sub_event_evals)"
   ]
  },
  {
   "cell_type": "code",
   "execution_count": null,
   "metadata": {
    "collapsed": true
   },
   "outputs": [],
   "source": []
  },
  {
   "cell_type": "code",
   "execution_count": null,
   "metadata": {
    "collapsed": true
   },
   "outputs": [],
   "source": []
  },
  {
   "cell_type": "code",
   "execution_count": null,
   "metadata": {
    "collapsed": true
   },
   "outputs": [],
   "source": []
  },
  {
   "cell_type": "code",
   "execution_count": null,
   "metadata": {
    "collapsed": true
   },
   "outputs": [],
   "source": []
  }
 ],
 "metadata": {
  "kernelspec": {
   "display_name": "Python 3",
   "language": "python",
   "name": "python3"
  },
  "language_info": {
   "codemirror_mode": {
    "name": "ipython",
    "version": 3
   },
   "file_extension": ".py",
   "mimetype": "text/x-python",
   "name": "python",
   "nbconvert_exporter": "python",
   "pygments_lexer": "ipython3",
   "version": "3.6.3"
  }
 },
 "nbformat": 4,
 "nbformat_minor": 2
}
