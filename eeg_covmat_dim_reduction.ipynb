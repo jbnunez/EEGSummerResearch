{
 "cells": [
  {
   "cell_type": "markdown",
   "metadata": {},
   "source": [
    "Convert the covmats for the events into eigenvalues and eigenvectors to allow for dimensionality reduction by dropping less significant eigenvalues"
   ]
  },
  {
   "cell_type": "code",
   "execution_count": 5,
   "metadata": {
    "collapsed": true
   },
   "outputs": [],
   "source": [
    "import numpy as np\n",
    "import pandas as pd\n",
    "import pickle"
   ]
  },
  {
   "cell_type": "code",
   "execution_count": 6,
   "metadata": {},
   "outputs": [
    {
     "name": "stdout",
     "output_type": "stream",
     "text": [
      "(64, 32, 32)\n",
      "(6, 2, 32, 32)\n"
     ]
    }
   ],
   "source": [
    "event_covmats = np.load('eeg_event_covmats.npy')\n",
    "print(event_covmats.shape)\n",
    "sub_event_covmats = np.load('eeg_sub_event_covmats.npy')\n",
    "print(sub_event_covmats.shape)\n",
    "event_covmat_invs = np.load('eeg_event_covmat_invs.npy')\n",
    "sub_event_covmat_invs = np.load('eeg_sub_event_covmat_invs.npy')"
   ]
  },
  {
   "cell_type": "code",
   "execution_count": 7,
   "metadata": {
    "collapsed": true
   },
   "outputs": [],
   "source": [
    "event_means = np.load('eeg_event_means.npy')\n",
    "sub_event_means = np.load('eeg_sub_event_means.npy')"
   ]
  },
  {
   "cell_type": "markdown",
   "metadata": {},
   "source": [
    "Now we'll take eigenvalues and eigenvectors"
   ]
  },
  {
   "cell_type": "code",
   "execution_count": 8,
   "metadata": {
    "collapsed": true
   },
   "outputs": [],
   "source": [
    "def mats_to_evecsvals(mats):\n",
    "    eig = [(np.linalg.eigh(c)) for c in mats]\n",
    "    vals = np.array([c[0] for c in eig])\n",
    "    vecs = np.array([c[1] for c in eig])\n",
    "    print(vecs.shape, vals.shape)\n",
    "    return vecs, vals"
   ]
  },
  {
   "cell_type": "code",
   "execution_count": 9,
   "metadata": {},
   "outputs": [
    {
     "name": "stdout",
     "output_type": "stream",
     "text": [
      "(64, 32, 32) (64, 32)\n",
      "(64, 32, 32) (64, 32)\n"
     ]
    }
   ],
   "source": [
    "event_evecs, event_evals = mats_to_evecsvals(event_covmats)\n",
    "event_inv_evecs, event_inv_evals = mats_to_evecsvals(event_covmat_invs)\n"
   ]
  },
  {
   "cell_type": "code",
   "execution_count": 10,
   "metadata": {
    "collapsed": true
   },
   "outputs": [],
   "source": [
    "np.save('eeg_event_evecs', event_evecs)\n",
    "np.save('eeg_event_evals', event_evals)\n",
    "np.save('eeg_event_inv_evecs', event_inv_evecs)\n",
    "np.save('eeg_event_inv_evals', event_inv_evals)"
   ]
  },
  {
   "cell_type": "code",
   "execution_count": 11,
   "metadata": {
    "collapsed": true
   },
   "outputs": [],
   "source": [
    "def matpairs_to_eig(mats):\n",
    "    eig0 = [np.linalg.eigh(c) for c in mats[:,0,:,:]]\n",
    "    vals0 = [c[0] for c in eig0]\n",
    "    vecs0 = [c[1] for c in eig0]\n",
    "    eig1 = [np.linalg.eigh(c) for c in mats[:,1,:,:]]\n",
    "    vals1 = [c[0] for c in eig1]\n",
    "    vecs1 = [c[1] for c in eig1]\n",
    "    vecs = np.array([[c0,c1] for (c0,c1) in zip(vecs0,vecs1)])\n",
    "    vals = np.array([[v0,v1] for (v0,v1) in zip(vals0,vals1)])\n",
    "    print(vecs.shape, vals.shape)\n",
    "    return vecs, vals"
   ]
  },
  {
   "cell_type": "code",
   "execution_count": 12,
   "metadata": {},
   "outputs": [
    {
     "name": "stdout",
     "output_type": "stream",
     "text": [
      "(6, 2, 32, 32) (6, 2, 32)\n",
      "(6, 2, 32, 32) (6, 2, 32)\n"
     ]
    }
   ],
   "source": [
    "sub_event_evecs, sub_event_evals = matpairs_to_eig(sub_event_covmats)\n",
    "sub_event_inv_evecs, sub_event_inv_evals = matpairs_to_eig(sub_event_covmat_invs)\n"
   ]
  },
  {
   "cell_type": "code",
   "execution_count": 14,
   "metadata": {
    "collapsed": true
   },
   "outputs": [],
   "source": [
    "np.save('eeg_sub_event_evecs', sub_event_evecs)\n",
    "np.save('eeg_sub_event_evals', sub_event_evals)\n",
    "np.save('eeg_sub_event_inv_evecs', sub_event_inv_evecs)\n",
    "np.save('eeg_sub_event_inv_evals', sub_event_inv_evals)"
   ]
  },
  {
   "cell_type": "code",
   "execution_count": 56,
   "metadata": {},
   "outputs": [
    {
     "data": {
      "text/plain": [
       "array([[ 0.        ,  0.        ,  0.        , ..., -0.00195312,\n",
       "        -0.00048828, -0.00286865],\n",
       "       [ 0.        ,  0.        ,  0.0078125 , ...,  0.00488281,\n",
       "         0.00183105,  0.00195312],\n",
       "       [ 0.        ,  0.        ,  0.        , ...,  0.00195312,\n",
       "        -0.00195312, -0.00195312],\n",
       "       ...,\n",
       "       [-0.00048828,  0.00390625,  0.00390625, ...,  0.        ,\n",
       "         0.        ,  0.        ],\n",
       "       [ 0.00195312, -0.00109863,  0.        , ...,  0.        ,\n",
       "         0.        ,  0.        ],\n",
       "       [ 0.0010376 ,  0.00390625,  0.00390625, ...,  0.        ,\n",
       "         0.        ,  0.        ]], dtype=float32)"
      ]
     },
     "execution_count": 56,
     "metadata": {},
     "output_type": "execute_result"
    }
   ],
   "source": [
    "\n"
   ]
  },
  {
   "cell_type": "code",
   "execution_count": null,
   "metadata": {
    "collapsed": true
   },
   "outputs": [],
   "source": []
  }
 ],
 "metadata": {
  "kernelspec": {
   "display_name": "Python 3",
   "language": "python",
   "name": "python3"
  },
  "language_info": {
   "codemirror_mode": {
    "name": "ipython",
    "version": 3
   },
   "file_extension": ".py",
   "mimetype": "text/x-python",
   "name": "python",
   "nbconvert_exporter": "python",
   "pygments_lexer": "ipython3",
   "version": "3.6.3"
  }
 },
 "nbformat": 4,
 "nbformat_minor": 2
}
