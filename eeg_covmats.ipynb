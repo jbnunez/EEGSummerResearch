{
 "cells": [
  {
   "cell_type": "code",
   "execution_count": 1,
   "metadata": {
    "collapsed": true
   },
   "outputs": [],
   "source": [
    "import numpy as np\n",
    "import pandas as pd\n",
    "import os\n",
    "import pickle\n",
    "\n",
    "train_path = 'train/'\n",
    "dir_list = os.listdir(path=train_path)"
   ]
  },
  {
   "cell_type": "code",
   "execution_count": 2,
   "metadata": {
    "collapsed": true
   },
   "outputs": [],
   "source": [
    "datafiles = []\n",
    "labelfiles = []\n",
    "\n",
    "for file in dir_list:\n",
    "    if file[-8:] == 'data.csv':\n",
    "        datafiles.append(train_path+file)\n",
    "    else:\n",
    "        labelfiles.append(train_path+file)\n",
    "        #df = pd.read_csv(train_path+file, index_col=0)\n",
    "        #print(df.head())\n",
    "        #print(df.shape)\n",
    "\n",
    "#5/0\n",
    "file_starts = [i[:-8] for i in datafiles]\n",
    "\n"
   ]
  },
  {
   "cell_type": "code",
   "execution_count": 4,
   "metadata": {},
   "outputs": [
    {
     "name": "stdout",
     "output_type": "stream",
     "text": [
      "0 files read\n",
      "10 files read\n",
      "20 files read\n",
      "30 files read\n",
      "40 files read\n",
      "50 files read\n",
      "60 files read\n",
      "70 files read\n",
      "80 files read\n",
      "90 files read\n"
     ]
    }
   ],
   "source": [
    "\n",
    "file_lengths = {}\n",
    "dfs = {}\n",
    "for i, file in enumerate(file_starts):\n",
    "    if i%10==0:\n",
    "        print(str(i), \"files read\")\n",
    "    df = pd.read_csv(file+'data.csv', index_col=0)\n",
    "    #print(df.head())\n",
    "    file_lengths[file] = df.shape[0]\n",
    "    #print(df.shape)\n",
    "    dfs[file] = df\n",
    "\n",
    "\n"
   ]
  },
  {
   "cell_type": "code",
   "execution_count": 5,
   "metadata": {},
   "outputs": [
    {
     "name": "stdout",
     "output_type": "stream",
     "text": [
      "0 files read\n",
      "10 files read\n",
      "20 files read\n",
      "30 files read\n",
      "40 files read\n",
      "50 files read\n",
      "60 files read\n",
      "70 files read\n",
      "80 files read\n",
      "90 files read\n"
     ]
    }
   ],
   "source": [
    "labeldfs={}\n",
    "for i, file in enumerate(file_starts):\n",
    "    if i%10==0:\n",
    "        print(str(i), \"files read\")\n",
    "    df = pd.read_csv(file+'events.csv', index_col=0)\n",
    "    #print(df.head())\n",
    "    #print(df.shape)\n",
    "    labeldfs[file] = df"
   ]
  },
  {
   "cell_type": "code",
   "execution_count": 6,
   "metadata": {
    "collapsed": true
   },
   "outputs": [],
   "source": [
    "labeldf = pd.concat(list(labeldfs.values()))"
   ]
  },
  {
   "cell_type": "code",
   "execution_count": 7,
   "metadata": {
    "collapsed": true
   },
   "outputs": [],
   "source": [
    "fulldf = pd.concat(list(dfs.values()))"
   ]
  },
  {
   "cell_type": "markdown",
   "metadata": {},
   "source": [
    "Generate all possible combinations of hand motions"
   ]
  },
  {
   "cell_type": "code",
   "execution_count": 8,
   "metadata": {
    "collapsed": true
   },
   "outputs": [],
   "source": [
    "def to_binary(x):\n",
    "    rep = np.zeros(6)\n",
    "    power = 5\n",
    "    while x>0:\n",
    "        if x>=2**power:\n",
    "            x -= 2**power\n",
    "            rep[power] = 1\n",
    "        power -= 1\n",
    "    return rep\n",
    "\n",
    "events = np.zeros((2**6, 6))\n",
    "for i in range(2**6):\n",
    "    events[i] = to_binary(i)"
   ]
  },
  {
   "cell_type": "markdown",
   "metadata": {},
   "source": [
    "Generate covariance matrices for all possible 'events', aka hand motion combinations"
   ]
  },
  {
   "cell_type": "code",
   "execution_count": 127,
   "metadata": {},
   "outputs": [
    {
     "name": "stdout",
     "output_type": "stream",
     "text": [
      "0 samples computed\n",
      "1 samples computed\n",
      "5 samples computed\n",
      "10 samples computed\n",
      "15 samples computed\n",
      "20 samples computed\n",
      "25 samples computed\n",
      "30 samples computed\n",
      "35 samples computed\n",
      "40 samples computed\n",
      "45 samples computed\n",
      "50 samples computed\n",
      "55 samples computed\n",
      "60 samples computed\n"
     ]
    }
   ],
   "source": [
    "event_covmats = np.empty((64,32,32), dtype=np.float32)\n",
    "event_means = np.empty((64,32), dtype=np.float32)\n",
    "for i, ev in enumerate(events):\n",
    "    if i%5==0 or i==1:\n",
    "        print(i, \"samples computed\")\n",
    "    wh = labeldf.where(labeldf == ev)\n",
    "    inds = wh.index\n",
    "    #print(inds)\n",
    "    sampledf = fulldf.loc[inds]\n",
    "    #print(sampledf)\n",
    "    samples = np.array(sampledf).astype(np.int32)\n",
    "    if len(samples)>1000000:\n",
    "        rand_inds = np.random.choice(len(samples), size=1000000)\n",
    "        samples = samples[rand_inds]\n",
    "    \n",
    "    del sampledf\n",
    "    #print(samples)\n",
    "    if len(samples>1):\n",
    "        covmat = np.cov(samples.T)\n",
    "        event_covmats[i,:,:] = covmat\n",
    "        event_means[i,:] = np.mean(samples.T, axis=1)\n",
    "    else:\n",
    "        print('No samples for event', ev)\n",
    "        event_covmats[i,:,:] = np.eye(32)\n",
    "        event_means[i,:] = np.zeros(32)\n",
    "    \n",
    "    "
   ]
  },
  {
   "cell_type": "code",
   "execution_count": 132,
   "metadata": {
    "collapsed": true
   },
   "outputs": [],
   "source": [
    "np.save('eeg_event_covmats.npy', event_covmats)"
   ]
  },
  {
   "cell_type": "code",
   "execution_count": 133,
   "metadata": {
    "collapsed": true
   },
   "outputs": [],
   "source": [
    "np.save('eeg_event_means.npy', event_means)"
   ]
  },
  {
   "cell_type": "markdown",
   "metadata": {},
   "source": [
    "generate covariance matrices for 'sub_events', which are individual motions being zero or one"
   ]
  },
  {
   "cell_type": "code",
   "execution_count": 134,
   "metadata": {
    "scrolled": false
   },
   "outputs": [
    {
     "name": "stdout",
     "output_type": "stream",
     "text": [
      "0 samples computed\n",
      "1 samples computed\n",
      "2 samples computed\n",
      "3 samples computed\n",
      "4 samples computed\n",
      "5 samples computed\n",
      "6 samples computed\n",
      "7 samples computed\n",
      "8 samples computed\n",
      "9 samples computed\n",
      "10 samples computed\n",
      "11 samples computed\n"
     ]
    }
   ],
   "source": [
    "sub_event_covmats = np.empty((6,2,32,32), dtype=np.float32)\n",
    "sub_event_means = np.empty((6,2,32), dtype=np.float32)\n",
    "\n",
    "\n",
    "for i in range(6):\n",
    "    \n",
    "    print(i, \"samples computed\")\n",
    "    wh = labeldf.where(labeldf[labeldf.columns.values] == 1)\n",
    "    inds = wh.index\n",
    "    #print(inds)\n",
    "    sampledf = fulldf.loc[inds]\n",
    "    #print(sampledf)\n",
    "    samples = np.array(sampledf).astype(np.int32)\n",
    "    if len(samples)>1000000:\n",
    "        rand_inds = np.random.choice(len(samples), size=1000000)\n",
    "        samples = samples[rand_inds]\n",
    "    \n",
    "    del sampledf\n",
    "    #print(samples)\n",
    "    if len(samples>1):\n",
    "        covmat = np.cov(samples.T)\n",
    "        sub_event_covmats[i,1,:,:] = covmat\n",
    "        sub_event_means[i,1,:] = np.mean(samples, axis=0)\n",
    "    else:\n",
    "        print('No samples for event', ev)\n",
    "        sub_event_covmats[i,1,:,:] = np.eye(32)\n",
    "\n",
    "for i in range(6):\n",
    "    \n",
    "    print(i+6, \"samples computed\")\n",
    "    wh = labeldf.where(labeldf[labeldf.columns.values] == 0)\n",
    "    inds = wh.index\n",
    "    #print(inds)\n",
    "    sampledf = fulldf.loc[inds]\n",
    "    #print(sampledf)\n",
    "    samples = np.array(sampledf).astype(np.int32)\n",
    "    if len(samples)>1000000:\n",
    "        rand_inds = np.random.choice(len(samples), size=1000000)\n",
    "        samples = samples[rand_inds]\n",
    "    \n",
    "    del sampledf\n",
    "    #print(samples)\n",
    "    if len(samples>1):\n",
    "        covmat = np.cov(samples.T)\n",
    "        sub_event_covmats[i,0,:,:] = covmat\n",
    "        sub_event_means[i,0,:] = np.mean(samples, axis=0)\n",
    "\n",
    "    else:\n",
    "        print('No samples for event', ev)\n",
    "        sub_event_covmats[i,0,:,:] = np.eye(32)\n",
    "    "
   ]
  },
  {
   "cell_type": "code",
   "execution_count": null,
   "metadata": {
    "collapsed": true
   },
   "outputs": [],
   "source": []
  },
  {
   "cell_type": "code",
   "execution_count": 135,
   "metadata": {
    "collapsed": true
   },
   "outputs": [],
   "source": [
    "np.save('eeg_sub_event_covmats.npy', sub_event_covmats)"
   ]
  },
  {
   "cell_type": "code",
   "execution_count": 136,
   "metadata": {
    "collapsed": true
   },
   "outputs": [],
   "source": [
    "np.save('eeg_sub_event_means.npy', sub_event_means)"
   ]
  },
  {
   "cell_type": "markdown",
   "metadata": {
    "collapsed": true
   },
   "source": [
    "Compute and save inverses for use in gmm"
   ]
  },
  {
   "cell_type": "code",
   "execution_count": 137,
   "metadata": {
    "collapsed": true
   },
   "outputs": [],
   "source": [
    "event_covmat_invs = [np.linalg.inv(mat) for mat in event_covmats]"
   ]
  },
  {
   "cell_type": "code",
   "execution_count": 138,
   "metadata": {
    "collapsed": true
   },
   "outputs": [],
   "source": [
    "sub_event_covmat_invs = [[np.linalg.inv(mat), np.linalg.inv(mmat)] for [mat,mmat] in sub_event_covmats]"
   ]
  },
  {
   "cell_type": "code",
   "execution_count": 139,
   "metadata": {
    "collapsed": true
   },
   "outputs": [],
   "source": [
    "np.save('eeg_sub_event_covmat_invs.npy', sub_event_covmat_invs)"
   ]
  },
  {
   "cell_type": "code",
   "execution_count": 140,
   "metadata": {
    "collapsed": true
   },
   "outputs": [],
   "source": [
    "np.save('eeg_event_covmat_invs.npy', event_covmat_invs)"
   ]
  },
  {
   "cell_type": "code",
   "execution_count": 141,
   "metadata": {
    "collapsed": true
   },
   "outputs": [],
   "source": [
    "np.save('eeg_events.npy', events)"
   ]
  },
  {
   "cell_type": "markdown",
   "metadata": {
    "collapsed": true
   },
   "source": [
    "test using maha distance for assigning samples to classify samples (works very poorly"
   ]
  },
  {
   "cell_type": "code",
   "execution_count": 148,
   "metadata": {
    "collapsed": true
   },
   "outputs": [],
   "source": [
    "def test_cov_clusters(n, print_freq=100):\n",
    "    inds = np.random.choice(len(fulldf),size=n)\n",
    "    names = fulldf.index[inds]\n",
    "    samples = fulldf.loc[names]\n",
    "    names = samples.index\n",
    "    targets = labeldf.loc[names]\n",
    "    targs2 = np.empty((n,6), dtype=np.uint8)\n",
    "    if len(targets)==len(samples):\n",
    "        print('sample and target lengths match')\n",
    "    \n",
    "    preds = np.empty((n,6), dtype=np.uint8)\n",
    "    for i, name in enumerate(names):\n",
    "        if i%print_freq==0:\n",
    "            print(i, 'preds made')\n",
    "        vec = np.array(samples.loc[name])\n",
    "        \n",
    "        targ = np.array(targets.loc[name])\n",
    "        if vec.shape != (32,):\n",
    "            vec=vec[0]\n",
    "            targ=targ[0]\n",
    "        shortest, best = np.inf, None\n",
    "        for j in range(len(event_covmat_invs)):\n",
    "            mat = event_covmat_invs[j]\n",
    "            mu = event_means[j]\n",
    "            diff = vec-mu\n",
    "            dist = (diff.T@mat@diff)**0.5\n",
    "            if dist<shortest:\n",
    "                shortest=dist\n",
    "                best=j\n",
    "        preds[i] = events[j]\n",
    "        targs2[i] = targ\n",
    "    correct = float(0)\n",
    "    error = float(0)\n",
    "    for i,pred in enumerate(preds):\n",
    "        t = targs2[i]\n",
    "        if np.array_equal(pred,t):\n",
    "            correct += 1\n",
    "        else:\n",
    "            error += np.linalg.norm(pred-t)\n",
    "    return preds, correct, error\n",
    "        "
   ]
  },
  {
   "cell_type": "code",
   "execution_count": 149,
   "metadata": {},
   "outputs": [
    {
     "name": "stdout",
     "output_type": "stream",
     "text": [
      "sample and target lengths match\n",
      "0 preds made\n",
      "100 preds made\n",
      "200 preds made\n",
      "300 preds made\n",
      "400 preds made\n",
      "500 preds made\n",
      "600 preds made\n",
      "700 preds made\n",
      "800 preds made\n",
      "900 preds made\n"
     ]
    },
    {
     "data": {
      "text/plain": [
       "(array([[1, 1, 1, 1, 1, 1],\n",
       "        [1, 1, 1, 1, 1, 1],\n",
       "        [1, 1, 1, 1, 1, 1],\n",
       "        ...,\n",
       "        [1, 1, 1, 1, 1, 1],\n",
       "        [1, 1, 1, 1, 1, 1],\n",
       "        [1, 1, 1, 1, 1, 1]], dtype=uint8), 0.0, 2406.9804321263928)"
      ]
     },
     "execution_count": 149,
     "metadata": {},
     "output_type": "execute_result"
    }
   ],
   "source": [
    "test_cov_clusters(1000)"
   ]
  },
  {
   "cell_type": "code",
   "execution_count": 144,
   "metadata": {
    "collapsed": true
   },
   "outputs": [],
   "source": [
    "def test_cov_clusters2(n, print_freq=100):\n",
    "    inds = np.random.choice(len(fulldf),size=n)\n",
    "    names = fulldf.index[inds]\n",
    "    samples = fulldf.loc[names]\n",
    "    names = samples.index\n",
    "    targets = labeldf.loc[names]\n",
    "    targs2 = np.empty((n,6), dtype=np.uint8)\n",
    "    if len(targets)==len(samples):\n",
    "        print('yayyy')\n",
    "    \n",
    "    preds = np.empty((n,6), dtype=np.uint8)\n",
    "    for i, name in enumerate(names):\n",
    "        if i%print_freq==0:\n",
    "            print(i, 'preds made')\n",
    "        vec = np.array(samples.loc[name])\n",
    "        targ = np.array(targets.loc[name])\n",
    "        for j in range(len(sub_event_covmat_invs)):\n",
    "            (mat0,mat1) = sub_event_covmat_invs[j]\n",
    "            (mu0,mu1) = sub_event_means[j]\n",
    "            diff0=vec-mu0\n",
    "            diff1=vec-mu1\n",
    "            dist0 = (diff0.T@mat0@diff0)**0.5\n",
    "            dist1 = (diff1.T@mat1@diff1)**0.5\n",
    "            if dist0<dist1:\n",
    "                preds[i,j]=0\n",
    "            else:\n",
    "                preds[i,j]=1\n",
    "            targs2[i] = targ\n",
    "    correct = float(0)\n",
    "    error = float(0)\n",
    "    norm = float(0)\n",
    "    prednorm = float(0)\n",
    "    for i,pred in enumerate(preds):\n",
    "        t = targs2[i]\n",
    "        if np.array_equal(pred,t):\n",
    "            correct += 1\n",
    "        else:\n",
    "            error += np.linalg.norm(pred-t)\n",
    "        norm += np.linalg.norm(t)\n",
    "        prednorm += np.linalg.norm(pred)\n",
    "    return preds, correct, error/n, norm/n, prednorm/n\n",
    "        "
   ]
  },
  {
   "cell_type": "code",
   "execution_count": 145,
   "metadata": {},
   "outputs": [
    {
     "name": "stdout",
     "output_type": "stream",
     "text": [
      "yayyy\n",
      "0 preds made\n",
      "100 preds made\n",
      "200 preds made\n",
      "300 preds made\n",
      "400 preds made\n",
      "500 preds made\n",
      "600 preds made\n",
      "700 preds made\n",
      "800 preds made\n",
      "900 preds made\n"
     ]
    },
    {
     "data": {
      "text/plain": [
       "(array([[1, 0, 1, 0, 1, 0],\n",
       "        [1, 0, 1, 0, 1, 0],\n",
       "        [1, 0, 0, 0, 1, 0],\n",
       "        ...,\n",
       "        [0, 1, 1, 1, 1, 1],\n",
       "        [1, 0, 0, 1, 1, 0],\n",
       "        [1, 1, 0, 0, 1, 0]], dtype=uint8),\n",
       " 1.0,\n",
       " 17.59234387244542,\n",
       " 0.1623799186067802,\n",
       " 1.9622870743911935)"
      ]
     },
     "execution_count": 145,
     "metadata": {},
     "output_type": "execute_result"
    }
   ],
   "source": [
    "test_cov_clusters2(1000)"
   ]
  },
  {
   "cell_type": "code",
   "execution_count": 150,
   "metadata": {},
   "outputs": [
    {
     "data": {
      "text/html": [
       "<div>\n",
       "<table border=\"1\" class=\"dataframe\">\n",
       "  <thead>\n",
       "    <tr style=\"text-align: right;\">\n",
       "      <th></th>\n",
       "      <th>HandStart</th>\n",
       "      <th>FirstDigitTouch</th>\n",
       "      <th>BothStartLoadPhase</th>\n",
       "      <th>LiftOff</th>\n",
       "      <th>Replace</th>\n",
       "      <th>BothReleased</th>\n",
       "    </tr>\n",
       "    <tr>\n",
       "      <th>id</th>\n",
       "      <th></th>\n",
       "      <th></th>\n",
       "      <th></th>\n",
       "      <th></th>\n",
       "      <th></th>\n",
       "      <th></th>\n",
       "    </tr>\n",
       "  </thead>\n",
       "  <tbody>\n",
       "    <tr>\n",
       "      <th>subj8_series4_0</th>\n",
       "      <td>0</td>\n",
       "      <td>0</td>\n",
       "      <td>0</td>\n",
       "      <td>0</td>\n",
       "      <td>0</td>\n",
       "      <td>0</td>\n",
       "    </tr>\n",
       "    <tr>\n",
       "      <th>subj8_series4_1</th>\n",
       "      <td>0</td>\n",
       "      <td>0</td>\n",
       "      <td>0</td>\n",
       "      <td>0</td>\n",
       "      <td>0</td>\n",
       "      <td>0</td>\n",
       "    </tr>\n",
       "    <tr>\n",
       "      <th>subj8_series4_2</th>\n",
       "      <td>0</td>\n",
       "      <td>0</td>\n",
       "      <td>0</td>\n",
       "      <td>0</td>\n",
       "      <td>0</td>\n",
       "      <td>0</td>\n",
       "    </tr>\n",
       "    <tr>\n",
       "      <th>subj8_series4_3</th>\n",
       "      <td>0</td>\n",
       "      <td>0</td>\n",
       "      <td>0</td>\n",
       "      <td>0</td>\n",
       "      <td>0</td>\n",
       "      <td>0</td>\n",
       "    </tr>\n",
       "    <tr>\n",
       "      <th>subj8_series4_4</th>\n",
       "      <td>0</td>\n",
       "      <td>0</td>\n",
       "      <td>0</td>\n",
       "      <td>0</td>\n",
       "      <td>0</td>\n",
       "      <td>0</td>\n",
       "    </tr>\n",
       "  </tbody>\n",
       "</table>\n",
       "</div>"
      ],
      "text/plain": [
       "                 HandStart  FirstDigitTouch  BothStartLoadPhase  LiftOff  \\\n",
       "id                                                                         \n",
       "subj8_series4_0          0                0                   0        0   \n",
       "subj8_series4_1          0                0                   0        0   \n",
       "subj8_series4_2          0                0                   0        0   \n",
       "subj8_series4_3          0                0                   0        0   \n",
       "subj8_series4_4          0                0                   0        0   \n",
       "\n",
       "                 Replace  BothReleased  \n",
       "id                                      \n",
       "subj8_series4_0        0             0  \n",
       "subj8_series4_1        0             0  \n",
       "subj8_series4_2        0             0  \n",
       "subj8_series4_3        0             0  \n",
       "subj8_series4_4        0             0  "
      ]
     },
     "execution_count": 150,
     "metadata": {},
     "output_type": "execute_result"
    }
   ],
   "source": [
    "labeldf.head()"
   ]
  },
  {
   "cell_type": "code",
   "execution_count": 4,
   "metadata": {},
   "outputs": [
    {
     "data": {
      "text/plain": [
       "array([ 12291.18 ,  12702.946,  14292.849,  15292.013,  15696.541,\n",
       "        16811.916,  18231.11 ,  18425.246,  18826.678,  19966.84 ,\n",
       "        21492.184,  23101.332,  23948.854,  26927.422,  28953.607,\n",
       "        30318.188,  32186.611,  33003.324,  36582.613,  38945.11 ,\n",
       "        46248.49 ,  48992.87 ,  50892.08 ,  60018.69 ,  65010.516,\n",
       "        71122.375,  81071.45 , 101630.31 , 128328.75 , 174817.81 ,\n",
       "       472340.66 , 889802.25 ], dtype=float32)"
      ]
     },
     "execution_count": 4,
     "metadata": {},
     "output_type": "execute_result"
    }
   ],
   "source": [
    "X = np.load('eeg_event_evals.npy')\n",
    "X[0]"
   ]
  },
  {
   "cell_type": "code",
   "execution_count": null,
   "metadata": {
    "collapsed": true
   },
   "outputs": [],
   "source": []
  }
 ],
 "metadata": {
  "kernelspec": {
   "display_name": "Python 3",
   "language": "python",
   "name": "python3"
  },
  "language_info": {
   "codemirror_mode": {
    "name": "ipython",
    "version": 3
   },
   "file_extension": ".py",
   "mimetype": "text/x-python",
   "name": "python",
   "nbconvert_exporter": "python",
   "pygments_lexer": "ipython3",
   "version": "3.6.3"
  }
 },
 "nbformat": 4,
 "nbformat_minor": 2
}
