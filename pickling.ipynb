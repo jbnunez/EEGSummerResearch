{
 "cells": [
  {
   "cell_type": "markdown",
   "metadata": {},
   "source": [
    "This file creates pickles that is used by the generators to make the training data samples"
   ]
  },
  {
   "cell_type": "code",
   "execution_count": 1,
   "metadata": {
    "collapsed": true
   },
   "outputs": [],
   "source": [
    "import numpy as np\n",
    "import pandas as pd\n",
    "import os\n",
    "import pickle\n",
    "\n",
    "train_path = 'train/'\n",
    "dir_list = os.listdir(path=train_path)"
   ]
  },
  {
   "cell_type": "code",
   "execution_count": 2,
   "metadata": {
    "collapsed": true
   },
   "outputs": [],
   "source": [
    "datafiles = []\n",
    "labelfiles = []\n",
    "\n",
    "for file in dir_list:\n",
    "    if file[-8:] == 'data.csv':\n",
    "        datafiles.append(train_path+file)\n",
    "    else:\n",
    "        labelfiles.append(train_path+file)\n",
    "        \n",
    "file_starts = [i[:-8] for i in datafiles]\n"
   ]
  },
  {
   "cell_type": "code",
   "execution_count": 6,
   "metadata": {},
   "outputs": [
    {
     "name": "stdout",
     "output_type": "stream",
     "text": [
      "0 files read\n",
      "10 files read\n",
      "20 files read\n",
      "30 files read\n",
      "40 files read\n",
      "50 files read\n",
      "60 files read\n",
      "70 files read\n",
      "80 files read\n",
      "90 files read\n"
     ]
    }
   ],
   "source": [
    "\n",
    "file_lengths = {}\n",
    "dfs = {}\n",
    "for i, file in enumerate(file_starts):\n",
    "    if i%10==0:\n",
    "        print(str(i), \"files read\")\n",
    "    df = pd.read_csv(file+'data.csv', index_col=0)\n",
    "    file_lengths[file] = df.shape[0]\n",
    "    dfs[file] = df\n",
    "\n"
   ]
  },
  {
   "cell_type": "code",
   "execution_count": 14,
   "metadata": {
    "collapsed": true
   },
   "outputs": [],
   "source": [
    "arrays = {}\n",
    "for (key, df) in dfs.items():\n",
    "    arrays[key] = np.array(df, dtype=np.int16)"
   ]
  },
  {
   "cell_type": "code",
   "execution_count": 15,
   "metadata": {
    "collapsed": true
   },
   "outputs": [],
   "source": [
    "fileArrObject = open(\"eeg_train_data_arrs\",'wb') \n",
    "pickle.dump(arrays, fileArrObject)"
   ]
  },
  {
   "cell_type": "code",
   "execution_count": 22,
   "metadata": {
    "collapsed": true
   },
   "outputs": [],
   "source": [
    "\n",
    "fileObject = open(\"file_IDs\",'wb') \n",
    "pickle.dump(file_starts, fileObject)\n",
    "\n",
    "\n",
    "filelenObject = open(\"file_lengths\",'wb') \n",
    "pickle.dump(file_lengths, filelenObject)\n"
   ]
  },
  {
   "cell_type": "code",
   "execution_count": 19,
   "metadata": {},
   "outputs": [
    {
     "name": "stdout",
     "output_type": "stream",
     "text": [
      "0 files read\n",
      "10 files read\n",
      "20 files read\n",
      "30 files read\n",
      "40 files read\n",
      "50 files read\n",
      "60 files read\n",
      "70 files read\n",
      "80 files read\n",
      "90 files read\n"
     ]
    }
   ],
   "source": [
    "labeldfs={}\n",
    "for i, file in enumerate(file_starts):\n",
    "    if i%10==0:\n",
    "        print(str(i), \"files read\")\n",
    "    df = pd.read_csv(file+'events.csv', index_col=0)\n",
    "    labeldfs[file] = df\n",
    "\n"
   ]
  },
  {
   "cell_type": "code",
   "execution_count": 20,
   "metadata": {
    "collapsed": true
   },
   "outputs": [],
   "source": [
    "labelarrays = {}\n",
    "for (key, df) in labeldfs.items():\n",
    "    labelarrays[key] = np.array(df, dtype=np.uint8)"
   ]
  },
  {
   "cell_type": "code",
   "execution_count": 21,
   "metadata": {
    "collapsed": true
   },
   "outputs": [],
   "source": [
    "fileArrLabObject = open(\"eeg_train_label_arrs\",'wb') \n",
    "pickle.dump(labelarrays, fileArrLabObject)"
   ]
  },
  {
   "cell_type": "code",
   "execution_count": null,
   "metadata": {
    "collapsed": true
   },
   "outputs": [],
   "source": []
  }
 ],
 "metadata": {
  "kernelspec": {
   "display_name": "Python 3",
   "language": "python",
   "name": "python3"
  },
  "language_info": {
   "codemirror_mode": {
    "name": "ipython",
    "version": 3
   },
   "file_extension": ".py",
   "mimetype": "text/x-python",
   "name": "python",
   "nbconvert_exporter": "python",
   "pygments_lexer": "ipython3",
   "version": "3.6.3"
  }
 },
 "nbformat": 4,
 "nbformat_minor": 2
}
