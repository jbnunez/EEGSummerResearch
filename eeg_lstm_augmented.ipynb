{
 "cells": [
  {
   "cell_type": "markdown",
   "metadata": {},
   "source": [
    "This file trains and tests the LSTM classifier for the eeg data augmented with the mahalanobis distances of the samples from the event cluster centers.  The modes are sub_event and event.  Sub_event looks at the centers for each hand motion as being zero or one, while the event mode looks at each combination of hand motions"
   ]
  },
  {
   "cell_type": "code",
   "execution_count": 1,
   "metadata": {},
   "outputs": [
    {
     "name": "stderr",
     "output_type": "stream",
     "text": [
      "/Users/joenunez/anaconda3/lib/python3.6/site-packages/h5py/__init__.py:34: FutureWarning: Conversion of the second argument of issubdtype from `float` to `np.floating` is deprecated. In future, it will be treated as `np.float64 == np.dtype(float).type`.\n",
      "  from ._conv import register_converters as _register_converters\n",
      "Using TensorFlow backend.\n"
     ]
    }
   ],
   "source": [
    "import numpy as np\n",
    "import pandas as pd\n",
    "from keras.models import Sequential\n",
    "from keras.layers.core import Dense, Dropout, Activation\n",
    "from keras.layers import Input, Flatten\n",
    "from keras.layers.recurrent import LSTM\n",
    "from keras.models import load_model, Model\n",
    "import keras\n",
    "from eeg_generator_augmented import DataGenerator"
   ]
  },
  {
   "cell_type": "code",
   "execution_count": 9,
   "metadata": {},
   "outputs": [
    {
     "name": "stdout",
     "output_type": "stream",
     "text": [
      "list_IDs and test_IDs filled\n"
     ]
    }
   ],
   "source": [
    "batch_size = 50\n",
    "sample_dim = 32\n",
    "steps_back = 50\n",
    "target_dim = (6)\n",
    "#n_evals cannot exceed sample_dim\n",
    "n_evals=16\n",
    "mode='event'\n",
    "dist='gmm'\n",
    "\n",
    "generator = DataGenerator(batch_size=batch_size, \n",
    "    dim1=sample_dim, target_dim=target_dim, \n",
    "    steps_back=steps_back, mode=mode, n_evals=n_evals, dist=dist)\n",
    "\n",
    "input_shape = generator.get_input_shape()\n"
   ]
  },
  {
   "cell_type": "code",
   "execution_count": 10,
   "metadata": {
    "collapsed": true
   },
   "outputs": [],
   "source": [
    "num_epochs = 3"
   ]
  },
  {
   "cell_type": "code",
   "execution_count": 11,
   "metadata": {},
   "outputs": [
    {
     "name": "stdout",
     "output_type": "stream",
     "text": [
      "model compiled\n"
     ]
    }
   ],
   "source": [
    "model = Sequential()\n",
    "model.add(LSTM(1000, input_shape=input_shape))\n",
    "model.add(Dense(1000, activation='relu'))\n",
    "model.add(Dense(1000, activation='relu'))\n",
    "model.add(Dropout(0.1))\n",
    "model.add(Dense(1000, activation='relu'))\n",
    "model.add(Dense(1000, activation='relu'))\n",
    "model.add(Dropout(0.1))\n",
    "model.add(Dense(1000, activation='relu'))\n",
    "model.add(Dense(1000, activation='relu'))\n",
    "model.add(Dense(target_dim, activation='sigmoid'))\n",
    "model.compile(loss='mean_squared_error', optimizer='nadam')\n",
    "print('model compiled')"
   ]
  },
  {
   "cell_type": "code",
   "execution_count": 12,
   "metadata": {},
   "outputs": [
    {
     "name": "stdout",
     "output_type": "stream",
     "text": [
      "Epoch 1/3\n",
      "150/150 [==============================] - 304s 2s/step - loss: 0.1538\n",
      "Epoch 2/3\n",
      "150/150 [==============================] - 317s 2s/step - loss: 0.1248\n",
      "Epoch 3/3\n",
      "150/150 [==============================] - 290s 2s/step - loss: 0.1196\n"
     ]
    }
   ],
   "source": [
    "model.fit_generator(generator=train_generator, epochs=num_epochs, \n",
    "                    steps_per_epoch=150, workers=4, use_multiprocessing=True)\n",
    "model.save(\"eeg_lstm_sub_gmm16_aug_50_steps.h5\")\n",
    "print('model saved')"
   ]
  },
  {
   "cell_type": "code",
   "execution_count": 13,
   "metadata": {},
   "outputs": [
    {
     "name": "stdout",
     "output_type": "stream",
     "text": [
      "test generated\n"
     ]
    }
   ],
   "source": [
    "X_test, y_test = generator.test_generation(1000)\n",
    "print('test generated')"
   ]
  },
  {
   "cell_type": "code",
   "execution_count": 14,
   "metadata": {},
   "outputs": [
    {
     "name": "stdout",
     "output_type": "stream",
     "text": [
      "_________________________________________________________________\n",
      "Layer (type)                 Output Shape              Param #   \n",
      "=================================================================\n",
      "lstm_2 (LSTM)                (None, 1000)              4388000   \n",
      "_________________________________________________________________\n",
      "dense_8 (Dense)              (None, 1000)              1001000   \n",
      "_________________________________________________________________\n",
      "dense_9 (Dense)              (None, 1000)              1001000   \n",
      "_________________________________________________________________\n",
      "dropout_3 (Dropout)          (None, 1000)              0         \n",
      "_________________________________________________________________\n",
      "dense_10 (Dense)             (None, 1000)              1001000   \n",
      "_________________________________________________________________\n",
      "dense_11 (Dense)             (None, 1000)              1001000   \n",
      "_________________________________________________________________\n",
      "dropout_4 (Dropout)          (None, 1000)              0         \n",
      "_________________________________________________________________\n",
      "dense_12 (Dense)             (None, 1000)              1001000   \n",
      "_________________________________________________________________\n",
      "dense_13 (Dense)             (None, 1000)              1001000   \n",
      "_________________________________________________________________\n",
      "dense_14 (Dense)             (None, 6)                 6006      \n",
      "=================================================================\n",
      "Total params: 10,400,006\n",
      "Trainable params: 10,400,006\n",
      "Non-trainable params: 0\n",
      "_________________________________________________________________\n",
      "preds made\n"
     ]
    }
   ],
   "source": [
    "#model = load_model(\"eeg_lstm_sub_aug_50_steps.h5\")\n",
    "model.summary()\n",
    "preds = model.predict(X_test)\n",
    "print('preds made')"
   ]
  },
  {
   "cell_type": "markdown",
   "metadata": {},
   "source": [
    "Computes the accuracy.  Also possible to compile the model with accuracy as a metric and use evaluate function, but this lets us leverage the round function more easily than putting a specialized layer at the end of the network "
   ]
  },
  {
   "cell_type": "code",
   "execution_count": 15,
   "metadata": {},
   "outputs": [
    {
     "name": "stdout",
     "output_type": "stream",
     "text": [
      "0.87224\n"
     ]
    }
   ],
   "source": [
    "corr=float(0)\n",
    "for i,p in enumerate(preds):\n",
    "    if np.array_equal(np.around(p), y_test[i]):\n",
    "        corr+=1\n",
    "print(corr/len(preds))"
   ]
  },
  {
   "cell_type": "code",
   "execution_count": null,
   "metadata": {
    "collapsed": true
   },
   "outputs": [],
   "source": []
  },
  {
   "cell_type": "code",
   "execution_count": null,
   "metadata": {
    "collapsed": true
   },
   "outputs": [],
   "source": []
  }
 ],
 "metadata": {
  "kernelspec": {
   "display_name": "Python 3",
   "language": "python",
   "name": "python3"
  },
  "language_info": {
   "codemirror_mode": {
    "name": "ipython",
    "version": 3
   },
   "file_extension": ".py",
   "mimetype": "text/x-python",
   "name": "python",
   "nbconvert_exporter": "python",
   "pygments_lexer": "ipython3",
   "version": "3.6.3"
  }
 },
 "nbformat": 4,
 "nbformat_minor": 2
}
