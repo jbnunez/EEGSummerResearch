{
 "cells": [
  {
   "cell_type": "markdown",
   "metadata": {},
   "source": [
    "This file creates a pickle that is used by the generators to make the test data samples"
   ]
  },
  {
   "cell_type": "code",
   "execution_count": 2,
   "metadata": {
    "collapsed": true
   },
   "outputs": [],
   "source": [
    "import numpy as np\n",
    "import pandas as pd\n",
    "import os\n",
    "import pickle\n",
    "\n",
    "train_path = 'test/'\n",
    "dir_list = os.listdir(path=train_path)"
   ]
  },
  {
   "cell_type": "code",
   "execution_count": 10,
   "metadata": {
    "collapsed": true
   },
   "outputs": [],
   "source": [
    "datafiles = []\n",
    "\n",
    "for file in dir_list:\n",
    "    if file[-8:] == 'data.csv':\n",
    "        datafiles.append(train_path+file)\n",
    "\n",
    "\n",
    "file_starts = [i[:-8] for i in datafiles]\n"
   ]
  },
  {
   "cell_type": "code",
   "execution_count": 11,
   "metadata": {},
   "outputs": [
    {
     "name": "stdout",
     "output_type": "stream",
     "text": [
      "0 files read\n",
      "10 files read\n",
      "20 files read\n"
     ]
    }
   ],
   "source": [
    "file_lengths = {}\n",
    "dfs = {}\n",
    "for i, file in enumerate(datafiles):\n",
    "    if i%10==0:\n",
    "        print(str(i), \"files read\")\n",
    "    df = pd.read_csv(file, index_col=0)\n",
    "    file_lengths[file] = df.shape[0]\n",
    "    dfs[file] = df"
   ]
  },
  {
   "cell_type": "code",
   "execution_count": 12,
   "metadata": {
    "collapsed": true
   },
   "outputs": [],
   "source": [
    "arrays = {}\n",
    "for (key, df) in dfs.items():\n",
    "    arrays[key] = np.array(df, dtype=np.int16)"
   ]
  },
  {
   "cell_type": "code",
   "execution_count": 13,
   "metadata": {
    "collapsed": true
   },
   "outputs": [],
   "source": [
    "fileArrObject = open(\"eeg_test_data_arrs\",'wb') \n",
    "pickle.dump(arrays, fileArrObject)"
   ]
  },
  {
   "cell_type": "code",
   "execution_count": 17,
   "metadata": {
    "collapsed": true
   },
   "outputs": [],
   "source": [
    "\n",
    "fileObject = open(\"test_file_IDs\",'wb') \n",
    "pickle.dump(file_starts, fileObject)\n",
    "\n",
    "\n",
    "filelenObject = open(\"test_file_lengths\",'wb') \n",
    "pickle.dump(file_lengths, filelenObject)\n"
   ]
  },
  {
   "cell_type": "code",
   "execution_count": 20,
   "metadata": {
    "collapsed": true
   },
   "outputs": [],
   "source": []
  },
  {
   "cell_type": "code",
   "execution_count": 21,
   "metadata": {
    "collapsed": true
   },
   "outputs": [],
   "source": []
  }
 ],
 "metadata": {
  "kernelspec": {
   "display_name": "Python 3",
   "language": "python",
   "name": "python3"
  },
  "language_info": {
   "codemirror_mode": {
    "name": "ipython",
    "version": 3
   },
   "file_extension": ".py",
   "mimetype": "text/x-python",
   "name": "python",
   "nbconvert_exporter": "python",
   "pygments_lexer": "ipython3",
   "version": "3.6.3"
  }
 },
 "nbformat": 4,
 "nbformat_minor": 2
}
